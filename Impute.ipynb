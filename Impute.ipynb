{
 "cells": [
  {
   "cell_type": "code",
   "execution_count": 164,
   "metadata": {},
   "outputs": [],
   "source": [
    "import seaborn as sns\n",
    "import matplotlib.pyplot as plt"
   ]
  },
  {
   "cell_type": "code",
   "execution_count": 165,
   "metadata": {},
   "outputs": [],
   "source": [
    "import numpy as np\n",
    "import pandas as pd\n",
    "import os"
   ]
  },
  {
   "cell_type": "code",
   "execution_count": 137,
   "metadata": {},
   "outputs": [],
   "source": [
    "X_train = pd.read_csv('Imputed_data_merge.csv')\n",
    "X_test = pd.read_csv('Imputed_data_test_merge.csv')"
   ]
  },
  {
   "cell_type": "code",
   "execution_count": 138,
   "metadata": {},
   "outputs": [
    {
     "data": {
      "text/html": [
       "<div>\n",
       "<style scoped>\n",
       "    .dataframe tbody tr th:only-of-type {\n",
       "        vertical-align: middle;\n",
       "    }\n",
       "\n",
       "    .dataframe tbody tr th {\n",
       "        vertical-align: top;\n",
       "    }\n",
       "\n",
       "    .dataframe thead th {\n",
       "        text-align: right;\n",
       "    }\n",
       "</style>\n",
       "<table border=\"1\" class=\"dataframe\">\n",
       "  <thead>\n",
       "    <tr style=\"text-align: right;\">\n",
       "      <th></th>\n",
       "      <th>0</th>\n",
       "      <th>1</th>\n",
       "      <th>2</th>\n",
       "      <th>3</th>\n",
       "      <th>4</th>\n",
       "      <th>5</th>\n",
       "      <th>6</th>\n",
       "      <th>7</th>\n",
       "      <th>8</th>\n",
       "      <th>9</th>\n",
       "      <th>...</th>\n",
       "      <th>355</th>\n",
       "      <th>356</th>\n",
       "      <th>357</th>\n",
       "      <th>358</th>\n",
       "      <th>359</th>\n",
       "      <th>360</th>\n",
       "      <th>361</th>\n",
       "      <th>362</th>\n",
       "      <th>363</th>\n",
       "      <th>364</th>\n",
       "    </tr>\n",
       "  </thead>\n",
       "  <tbody>\n",
       "    <tr>\n",
       "      <th>0</th>\n",
       "      <td>0.003547</td>\n",
       "      <td>0.000018</td>\n",
       "      <td>0.001717</td>\n",
       "      <td>0.001857</td>\n",
       "      <td>0.005150</td>\n",
       "      <td>0.030043</td>\n",
       "      <td>0.306333</td>\n",
       "      <td>0.012145</td>\n",
       "      <td>0.016363</td>\n",
       "      <td>0.028380</td>\n",
       "      <td>...</td>\n",
       "      <td>5.335094e-10</td>\n",
       "      <td>7.421979e-10</td>\n",
       "      <td>1.248088e-09</td>\n",
       "      <td>1.154102e-08</td>\n",
       "      <td>3.882347e-07</td>\n",
       "      <td>1.349230e-13</td>\n",
       "      <td>7.210597e-13</td>\n",
       "      <td>2.954037e-06</td>\n",
       "      <td>2.914386e-08</td>\n",
       "      <td>1.832438e-07</td>\n",
       "    </tr>\n",
       "    <tr>\n",
       "      <th>1</th>\n",
       "      <td>0.004045</td>\n",
       "      <td>0.000028</td>\n",
       "      <td>0.002020</td>\n",
       "      <td>0.002135</td>\n",
       "      <td>0.006063</td>\n",
       "      <td>0.037187</td>\n",
       "      <td>0.337000</td>\n",
       "      <td>0.017292</td>\n",
       "      <td>0.024240</td>\n",
       "      <td>0.034805</td>\n",
       "      <td>...</td>\n",
       "      <td>2.668000e-09</td>\n",
       "      <td>3.080623e-09</td>\n",
       "      <td>3.063753e-09</td>\n",
       "      <td>6.162871e-09</td>\n",
       "      <td>3.413460e-07</td>\n",
       "      <td>8.407321e-13</td>\n",
       "      <td>2.428877e-12</td>\n",
       "      <td>2.095374e-07</td>\n",
       "      <td>6.445481e-08</td>\n",
       "      <td>6.459290e-08</td>\n",
       "    </tr>\n",
       "    <tr>\n",
       "      <th>2</th>\n",
       "      <td>0.010367</td>\n",
       "      <td>0.000072</td>\n",
       "      <td>0.005132</td>\n",
       "      <td>0.005715</td>\n",
       "      <td>0.015395</td>\n",
       "      <td>0.044917</td>\n",
       "      <td>0.498000</td>\n",
       "      <td>0.021292</td>\n",
       "      <td>0.026830</td>\n",
       "      <td>0.042540</td>\n",
       "      <td>...</td>\n",
       "      <td>1.252018e-08</td>\n",
       "      <td>2.427515e-08</td>\n",
       "      <td>1.057669e-08</td>\n",
       "      <td>1.580862e-08</td>\n",
       "      <td>1.499654e-06</td>\n",
       "      <td>8.314275e-12</td>\n",
       "      <td>1.443180e-11</td>\n",
       "      <td>2.646965e-07</td>\n",
       "      <td>9.489589e-08</td>\n",
       "      <td>7.820423e-08</td>\n",
       "    </tr>\n",
       "    <tr>\n",
       "      <th>3</th>\n",
       "      <td>0.006670</td>\n",
       "      <td>0.000048</td>\n",
       "      <td>0.002815</td>\n",
       "      <td>0.003470</td>\n",
       "      <td>0.008445</td>\n",
       "      <td>0.066050</td>\n",
       "      <td>0.645667</td>\n",
       "      <td>0.030512</td>\n",
       "      <td>0.040083</td>\n",
       "      <td>0.064232</td>\n",
       "      <td>...</td>\n",
       "      <td>2.205659e-07</td>\n",
       "      <td>5.499050e-08</td>\n",
       "      <td>5.534817e-08</td>\n",
       "      <td>3.257880e-08</td>\n",
       "      <td>5.539258e-06</td>\n",
       "      <td>1.423709e-10</td>\n",
       "      <td>4.670104e-10</td>\n",
       "      <td>2.396316e-06</td>\n",
       "      <td>1.835599e-07</td>\n",
       "      <td>4.198287e-07</td>\n",
       "    </tr>\n",
       "    <tr>\n",
       "      <th>4</th>\n",
       "      <td>0.004187</td>\n",
       "      <td>0.000020</td>\n",
       "      <td>0.001755</td>\n",
       "      <td>0.002035</td>\n",
       "      <td>0.005267</td>\n",
       "      <td>0.033150</td>\n",
       "      <td>0.392333</td>\n",
       "      <td>0.013088</td>\n",
       "      <td>0.019008</td>\n",
       "      <td>0.033233</td>\n",
       "      <td>...</td>\n",
       "      <td>4.505771e-07</td>\n",
       "      <td>2.582510e-08</td>\n",
       "      <td>1.442604e-07</td>\n",
       "      <td>1.709799e-08</td>\n",
       "      <td>6.383605e-06</td>\n",
       "      <td>3.916065e-10</td>\n",
       "      <td>1.357876e-09</td>\n",
       "      <td>6.267470e-06</td>\n",
       "      <td>1.854319e-07</td>\n",
       "      <td>1.575641e-06</td>\n",
       "    </tr>\n",
       "  </tbody>\n",
       "</table>\n",
       "<p>5 rows × 365 columns</p>\n",
       "</div>"
      ],
      "text/plain": [
       "          0         1         2         3         4         5         6  \\\n",
       "0  0.003547  0.000018  0.001717  0.001857  0.005150  0.030043  0.306333   \n",
       "1  0.004045  0.000028  0.002020  0.002135  0.006063  0.037187  0.337000   \n",
       "2  0.010367  0.000072  0.005132  0.005715  0.015395  0.044917  0.498000   \n",
       "3  0.006670  0.000048  0.002815  0.003470  0.008445  0.066050  0.645667   \n",
       "4  0.004187  0.000020  0.001755  0.002035  0.005267  0.033150  0.392333   \n",
       "\n",
       "          7         8         9  ...           355           356  \\\n",
       "0  0.012145  0.016363  0.028380  ...  5.335094e-10  7.421979e-10   \n",
       "1  0.017292  0.024240  0.034805  ...  2.668000e-09  3.080623e-09   \n",
       "2  0.021292  0.026830  0.042540  ...  1.252018e-08  2.427515e-08   \n",
       "3  0.030512  0.040083  0.064232  ...  2.205659e-07  5.499050e-08   \n",
       "4  0.013088  0.019008  0.033233  ...  4.505771e-07  2.582510e-08   \n",
       "\n",
       "            357           358           359           360           361  \\\n",
       "0  1.248088e-09  1.154102e-08  3.882347e-07  1.349230e-13  7.210597e-13   \n",
       "1  3.063753e-09  6.162871e-09  3.413460e-07  8.407321e-13  2.428877e-12   \n",
       "2  1.057669e-08  1.580862e-08  1.499654e-06  8.314275e-12  1.443180e-11   \n",
       "3  5.534817e-08  3.257880e-08  5.539258e-06  1.423709e-10  4.670104e-10   \n",
       "4  1.442604e-07  1.709799e-08  6.383605e-06  3.916065e-10  1.357876e-09   \n",
       "\n",
       "            362           363           364  \n",
       "0  2.954037e-06  2.914386e-08  1.832438e-07  \n",
       "1  2.095374e-07  6.445481e-08  6.459290e-08  \n",
       "2  2.646965e-07  9.489589e-08  7.820423e-08  \n",
       "3  2.396316e-06  1.835599e-07  4.198287e-07  \n",
       "4  6.267470e-06  1.854319e-07  1.575641e-06  \n",
       "\n",
       "[5 rows x 365 columns]"
      ]
     },
     "execution_count": 138,
     "metadata": {},
     "output_type": "execute_result"
    }
   ],
   "source": [
    "X_train.head()"
   ]
  },
  {
   "cell_type": "code",
   "execution_count": 139,
   "metadata": {},
   "outputs": [
    {
     "data": {
      "text/html": [
       "<div>\n",
       "<style scoped>\n",
       "    .dataframe tbody tr th:only-of-type {\n",
       "        vertical-align: middle;\n",
       "    }\n",
       "\n",
       "    .dataframe tbody tr th {\n",
       "        vertical-align: top;\n",
       "    }\n",
       "\n",
       "    .dataframe thead th {\n",
       "        text-align: right;\n",
       "    }\n",
       "</style>\n",
       "<table border=\"1\" class=\"dataframe\">\n",
       "  <thead>\n",
       "    <tr style=\"text-align: right;\">\n",
       "      <th></th>\n",
       "      <th>0</th>\n",
       "      <th>1</th>\n",
       "      <th>2</th>\n",
       "      <th>3</th>\n",
       "      <th>4</th>\n",
       "      <th>5</th>\n",
       "      <th>6</th>\n",
       "      <th>7</th>\n",
       "      <th>8</th>\n",
       "      <th>9</th>\n",
       "      <th>...</th>\n",
       "      <th>355</th>\n",
       "      <th>356</th>\n",
       "      <th>357</th>\n",
       "      <th>358</th>\n",
       "      <th>359</th>\n",
       "      <th>360</th>\n",
       "      <th>361</th>\n",
       "      <th>362</th>\n",
       "      <th>363</th>\n",
       "      <th>364</th>\n",
       "    </tr>\n",
       "  </thead>\n",
       "  <tbody>\n",
       "    <tr>\n",
       "      <th>0</th>\n",
       "      <td>0.003547</td>\n",
       "      <td>0.000018</td>\n",
       "      <td>0.001717</td>\n",
       "      <td>0.001857</td>\n",
       "      <td>0.005150</td>\n",
       "      <td>0.030043</td>\n",
       "      <td>0.306333</td>\n",
       "      <td>0.012145</td>\n",
       "      <td>0.016363</td>\n",
       "      <td>0.028380</td>\n",
       "      <td>...</td>\n",
       "      <td>1.941512e-05</td>\n",
       "      <td>6.348229e-06</td>\n",
       "      <td>3.259765e-07</td>\n",
       "      <td>7.781276e-08</td>\n",
       "      <td>0.000140</td>\n",
       "      <td>6.906806e-08</td>\n",
       "      <td>1.607653e-07</td>\n",
       "      <td>6.945407e-08</td>\n",
       "      <td>0.000629</td>\n",
       "      <td>1.441829e-06</td>\n",
       "    </tr>\n",
       "    <tr>\n",
       "      <th>1</th>\n",
       "      <td>0.004045</td>\n",
       "      <td>0.000028</td>\n",
       "      <td>0.002020</td>\n",
       "      <td>0.002135</td>\n",
       "      <td>0.006063</td>\n",
       "      <td>0.037187</td>\n",
       "      <td>0.337000</td>\n",
       "      <td>0.017292</td>\n",
       "      <td>0.024240</td>\n",
       "      <td>0.034805</td>\n",
       "      <td>...</td>\n",
       "      <td>5.053335e-06</td>\n",
       "      <td>4.948603e-07</td>\n",
       "      <td>6.813292e-08</td>\n",
       "      <td>5.443180e-08</td>\n",
       "      <td>0.000026</td>\n",
       "      <td>4.198837e-08</td>\n",
       "      <td>4.299541e-08</td>\n",
       "      <td>6.469536e-08</td>\n",
       "      <td>0.000023</td>\n",
       "      <td>3.602572e-07</td>\n",
       "    </tr>\n",
       "    <tr>\n",
       "      <th>2</th>\n",
       "      <td>0.010367</td>\n",
       "      <td>0.000072</td>\n",
       "      <td>0.005132</td>\n",
       "      <td>0.005715</td>\n",
       "      <td>0.015395</td>\n",
       "      <td>0.044917</td>\n",
       "      <td>0.498000</td>\n",
       "      <td>0.021292</td>\n",
       "      <td>0.026830</td>\n",
       "      <td>0.042540</td>\n",
       "      <td>...</td>\n",
       "      <td>6.245316e-06</td>\n",
       "      <td>1.039059e-06</td>\n",
       "      <td>1.395280e-07</td>\n",
       "      <td>2.971381e-07</td>\n",
       "      <td>0.000140</td>\n",
       "      <td>4.551672e-07</td>\n",
       "      <td>4.115710e-07</td>\n",
       "      <td>2.725904e-07</td>\n",
       "      <td>0.000004</td>\n",
       "      <td>8.986640e-07</td>\n",
       "    </tr>\n",
       "    <tr>\n",
       "      <th>3</th>\n",
       "      <td>0.006670</td>\n",
       "      <td>0.000048</td>\n",
       "      <td>0.002815</td>\n",
       "      <td>0.003470</td>\n",
       "      <td>0.008445</td>\n",
       "      <td>0.066050</td>\n",
       "      <td>0.645667</td>\n",
       "      <td>0.030512</td>\n",
       "      <td>0.040083</td>\n",
       "      <td>0.064232</td>\n",
       "      <td>...</td>\n",
       "      <td>7.752031e-07</td>\n",
       "      <td>3.416335e-07</td>\n",
       "      <td>2.372278e-07</td>\n",
       "      <td>1.067504e-06</td>\n",
       "      <td>0.000093</td>\n",
       "      <td>1.815479e-07</td>\n",
       "      <td>1.415759e-06</td>\n",
       "      <td>4.012288e-07</td>\n",
       "      <td>0.000023</td>\n",
       "      <td>4.982190e-07</td>\n",
       "    </tr>\n",
       "    <tr>\n",
       "      <th>4</th>\n",
       "      <td>0.004187</td>\n",
       "      <td>0.000020</td>\n",
       "      <td>0.001755</td>\n",
       "      <td>0.002035</td>\n",
       "      <td>0.005267</td>\n",
       "      <td>0.033150</td>\n",
       "      <td>0.392333</td>\n",
       "      <td>0.013088</td>\n",
       "      <td>0.019008</td>\n",
       "      <td>0.033233</td>\n",
       "      <td>...</td>\n",
       "      <td>3.671260e-06</td>\n",
       "      <td>1.533295e-07</td>\n",
       "      <td>2.059582e-07</td>\n",
       "      <td>1.088506e-06</td>\n",
       "      <td>0.000127</td>\n",
       "      <td>4.328775e-07</td>\n",
       "      <td>8.707206e-08</td>\n",
       "      <td>1.210280e-07</td>\n",
       "      <td>0.000004</td>\n",
       "      <td>4.526483e-07</td>\n",
       "    </tr>\n",
       "  </tbody>\n",
       "</table>\n",
       "<p>5 rows × 365 columns</p>\n",
       "</div>"
      ],
      "text/plain": [
       "          0         1         2         3         4         5         6  \\\n",
       "0  0.003547  0.000018  0.001717  0.001857  0.005150  0.030043  0.306333   \n",
       "1  0.004045  0.000028  0.002020  0.002135  0.006063  0.037187  0.337000   \n",
       "2  0.010367  0.000072  0.005132  0.005715  0.015395  0.044917  0.498000   \n",
       "3  0.006670  0.000048  0.002815  0.003470  0.008445  0.066050  0.645667   \n",
       "4  0.004187  0.000020  0.001755  0.002035  0.005267  0.033150  0.392333   \n",
       "\n",
       "          7         8         9  ...           355           356  \\\n",
       "0  0.012145  0.016363  0.028380  ...  1.941512e-05  6.348229e-06   \n",
       "1  0.017292  0.024240  0.034805  ...  5.053335e-06  4.948603e-07   \n",
       "2  0.021292  0.026830  0.042540  ...  6.245316e-06  1.039059e-06   \n",
       "3  0.030512  0.040083  0.064232  ...  7.752031e-07  3.416335e-07   \n",
       "4  0.013088  0.019008  0.033233  ...  3.671260e-06  1.533295e-07   \n",
       "\n",
       "            357           358       359           360           361  \\\n",
       "0  3.259765e-07  7.781276e-08  0.000140  6.906806e-08  1.607653e-07   \n",
       "1  6.813292e-08  5.443180e-08  0.000026  4.198837e-08  4.299541e-08   \n",
       "2  1.395280e-07  2.971381e-07  0.000140  4.551672e-07  4.115710e-07   \n",
       "3  2.372278e-07  1.067504e-06  0.000093  1.815479e-07  1.415759e-06   \n",
       "4  2.059582e-07  1.088506e-06  0.000127  4.328775e-07  8.707206e-08   \n",
       "\n",
       "            362       363           364  \n",
       "0  6.945407e-08  0.000629  1.441829e-06  \n",
       "1  6.469536e-08  0.000023  3.602572e-07  \n",
       "2  2.725904e-07  0.000004  8.986640e-07  \n",
       "3  4.012288e-07  0.000023  4.982190e-07  \n",
       "4  1.210280e-07  0.000004  4.526483e-07  \n",
       "\n",
       "[5 rows x 365 columns]"
      ]
     },
     "execution_count": 139,
     "metadata": {},
     "output_type": "execute_result"
    }
   ],
   "source": [
    "X_test.head()"
   ]
  },
  {
   "cell_type": "code",
   "execution_count": 91,
   "metadata": {},
   "outputs": [
    {
     "data": {
      "text/plain": [
       "(184, 365)"
      ]
     },
     "execution_count": 91,
     "metadata": {},
     "output_type": "execute_result"
    }
   ],
   "source": [
    "X_train.shape"
   ]
  },
  {
   "cell_type": "code",
   "execution_count": 92,
   "metadata": {},
   "outputs": [
    {
     "data": {
      "text/plain": [
       "(63, 365)"
      ]
     },
     "execution_count": 92,
     "metadata": {},
     "output_type": "execute_result"
    }
   ],
   "source": [
    "X_test.shape"
   ]
  },
  {
   "cell_type": "code",
   "execution_count": 166,
   "metadata": {},
   "outputs": [],
   "source": [
    "X_train1 = pd.read_csv(os.getcwd() + '/iid_pd_final2.csv')\n",
    "X_train2 = pd.read_csv(os.getcwd() + '/iid_final_merged.csv')"
   ]
  },
  {
   "cell_type": "code",
   "execution_count": 183,
   "metadata": {},
   "outputs": [
    {
     "data": {
      "text/html": [
       "<div>\n",
       "<style scoped>\n",
       "    .dataframe tbody tr th:only-of-type {\n",
       "        vertical-align: middle;\n",
       "    }\n",
       "\n",
       "    .dataframe tbody tr th {\n",
       "        vertical-align: top;\n",
       "    }\n",
       "\n",
       "    .dataframe thead th {\n",
       "        text-align: right;\n",
       "    }\n",
       "</style>\n",
       "<table border=\"1\" class=\"dataframe\">\n",
       "  <thead>\n",
       "    <tr style=\"text-align: right;\">\n",
       "      <th></th>\n",
       "      <th>Subject ID</th>\n",
       "      <th>mu_Jitter(local)</th>\n",
       "      <th>mu_Jitter(local, absolute)</th>\n",
       "      <th>mu_Jitter (rap)</th>\n",
       "      <th>mu_Jitter (ppq5)</th>\n",
       "      <th>mu_Jitter (ddp)</th>\n",
       "      <th>mu_Shimmer (local)</th>\n",
       "      <th>mu_Shimmer (local, db)</th>\n",
       "      <th>mu_Shimmer (apq3)</th>\n",
       "      <th>mu_Shimmer (apq5)</th>\n",
       "      <th>...</th>\n",
       "      <th>mad_Minimum pitch</th>\n",
       "      <th>mad_Maximum pitch</th>\n",
       "      <th>mad_Number of pulses</th>\n",
       "      <th>mad_Number of periods</th>\n",
       "      <th>mad_Mean period</th>\n",
       "      <th>mad_Standard deviation of period</th>\n",
       "      <th>mad_Fraction of locally unvoiced frames</th>\n",
       "      <th>mad_Number of voice breaks</th>\n",
       "      <th>mad_Degree of voice breaks</th>\n",
       "      <th>status</th>\n",
       "    </tr>\n",
       "  </thead>\n",
       "  <tbody>\n",
       "    <tr>\n",
       "      <th>0</th>\n",
       "      <td>1</td>\n",
       "      <td>2.352720</td>\n",
       "      <td>0.000115</td>\n",
       "      <td>1.116600</td>\n",
       "      <td>1.281440</td>\n",
       "      <td>3.349840</td>\n",
       "      <td>10.636880</td>\n",
       "      <td>1.078760</td>\n",
       "      <td>4.176600</td>\n",
       "      <td>6.385880</td>\n",
       "      <td>...</td>\n",
       "      <td>17.148752</td>\n",
       "      <td>17.151869</td>\n",
       "      <td>119.616000</td>\n",
       "      <td>119.040000</td>\n",
       "      <td>0.000276</td>\n",
       "      <td>0.000111</td>\n",
       "      <td>10.659350</td>\n",
       "      <td>0.729600</td>\n",
       "      <td>7.958672</td>\n",
       "      <td>1</td>\n",
       "    </tr>\n",
       "    <tr>\n",
       "      <th>1</th>\n",
       "      <td>2</td>\n",
       "      <td>2.688038</td>\n",
       "      <td>0.000215</td>\n",
       "      <td>1.274769</td>\n",
       "      <td>1.453346</td>\n",
       "      <td>3.824231</td>\n",
       "      <td>12.371192</td>\n",
       "      <td>1.182192</td>\n",
       "      <td>5.537654</td>\n",
       "      <td>7.136808</td>\n",
       "      <td>...</td>\n",
       "      <td>9.784438</td>\n",
       "      <td>50.969178</td>\n",
       "      <td>96.044379</td>\n",
       "      <td>95.133136</td>\n",
       "      <td>0.000313</td>\n",
       "      <td>0.000239</td>\n",
       "      <td>7.908148</td>\n",
       "      <td>0.952663</td>\n",
       "      <td>6.815399</td>\n",
       "      <td>1</td>\n",
       "    </tr>\n",
       "    <tr>\n",
       "      <th>2</th>\n",
       "      <td>3</td>\n",
       "      <td>3.006423</td>\n",
       "      <td>0.000131</td>\n",
       "      <td>1.631077</td>\n",
       "      <td>1.689115</td>\n",
       "      <td>4.892885</td>\n",
       "      <td>17.155731</td>\n",
       "      <td>1.494769</td>\n",
       "      <td>8.115385</td>\n",
       "      <td>10.962200</td>\n",
       "      <td>...</td>\n",
       "      <td>17.894580</td>\n",
       "      <td>96.405225</td>\n",
       "      <td>29.597633</td>\n",
       "      <td>28.526627</td>\n",
       "      <td>0.000377</td>\n",
       "      <td>0.000494</td>\n",
       "      <td>17.526107</td>\n",
       "      <td>1.100592</td>\n",
       "      <td>13.228728</td>\n",
       "      <td>1</td>\n",
       "    </tr>\n",
       "    <tr>\n",
       "      <th>3</th>\n",
       "      <td>4</td>\n",
       "      <td>1.545038</td>\n",
       "      <td>0.000063</td>\n",
       "      <td>0.806769</td>\n",
       "      <td>0.828808</td>\n",
       "      <td>2.419923</td>\n",
       "      <td>10.647423</td>\n",
       "      <td>1.015308</td>\n",
       "      <td>5.114423</td>\n",
       "      <td>6.672269</td>\n",
       "      <td>...</td>\n",
       "      <td>17.474115</td>\n",
       "      <td>23.984000</td>\n",
       "      <td>88.260355</td>\n",
       "      <td>87.544379</td>\n",
       "      <td>0.000243</td>\n",
       "      <td>0.000125</td>\n",
       "      <td>11.286355</td>\n",
       "      <td>0.816568</td>\n",
       "      <td>11.676148</td>\n",
       "      <td>1</td>\n",
       "    </tr>\n",
       "    <tr>\n",
       "      <th>4</th>\n",
       "      <td>5</td>\n",
       "      <td>2.749600</td>\n",
       "      <td>0.000250</td>\n",
       "      <td>1.234960</td>\n",
       "      <td>1.275200</td>\n",
       "      <td>3.704840</td>\n",
       "      <td>14.945240</td>\n",
       "      <td>1.369040</td>\n",
       "      <td>7.246840</td>\n",
       "      <td>9.553240</td>\n",
       "      <td>...</td>\n",
       "      <td>7.327751</td>\n",
       "      <td>63.142658</td>\n",
       "      <td>33.233728</td>\n",
       "      <td>32.621302</td>\n",
       "      <td>0.000731</td>\n",
       "      <td>0.000532</td>\n",
       "      <td>16.527077</td>\n",
       "      <td>0.985207</td>\n",
       "      <td>12.495805</td>\n",
       "      <td>1</td>\n",
       "    </tr>\n",
       "  </tbody>\n",
       "</table>\n",
       "<p>5 rows × 184 columns</p>\n",
       "</div>"
      ],
      "text/plain": [
       "   Subject ID  mu_Jitter(local)  mu_Jitter(local, absolute)  mu_Jitter (rap)  \\\n",
       "0           1          2.352720                    0.000115         1.116600   \n",
       "1           2          2.688038                    0.000215         1.274769   \n",
       "2           3          3.006423                    0.000131         1.631077   \n",
       "3           4          1.545038                    0.000063         0.806769   \n",
       "4           5          2.749600                    0.000250         1.234960   \n",
       "\n",
       "   mu_Jitter (ppq5)  mu_Jitter (ddp)  mu_Shimmer (local)  \\\n",
       "0          1.281440         3.349840           10.636880   \n",
       "1          1.453346         3.824231           12.371192   \n",
       "2          1.689115         4.892885           17.155731   \n",
       "3          0.828808         2.419923           10.647423   \n",
       "4          1.275200         3.704840           14.945240   \n",
       "\n",
       "   mu_Shimmer (local, db)  mu_Shimmer (apq3)  mu_Shimmer (apq5)  ...  \\\n",
       "0                1.078760           4.176600           6.385880  ...   \n",
       "1                1.182192           5.537654           7.136808  ...   \n",
       "2                1.494769           8.115385          10.962200  ...   \n",
       "3                1.015308           5.114423           6.672269  ...   \n",
       "4                1.369040           7.246840           9.553240  ...   \n",
       "\n",
       "   mad_Minimum pitch  mad_Maximum pitch  mad_Number of pulses  \\\n",
       "0          17.148752          17.151869            119.616000   \n",
       "1           9.784438          50.969178             96.044379   \n",
       "2          17.894580          96.405225             29.597633   \n",
       "3          17.474115          23.984000             88.260355   \n",
       "4           7.327751          63.142658             33.233728   \n",
       "\n",
       "   mad_Number of periods  mad_Mean period  mad_Standard deviation of period  \\\n",
       "0             119.040000         0.000276                          0.000111   \n",
       "1              95.133136         0.000313                          0.000239   \n",
       "2              28.526627         0.000377                          0.000494   \n",
       "3              87.544379         0.000243                          0.000125   \n",
       "4              32.621302         0.000731                          0.000532   \n",
       "\n",
       "   mad_Fraction of locally unvoiced frames  mad_Number of voice breaks  \\\n",
       "0                                10.659350                    0.729600   \n",
       "1                                 7.908148                    0.952663   \n",
       "2                                17.526107                    1.100592   \n",
       "3                                11.286355                    0.816568   \n",
       "4                                16.527077                    0.985207   \n",
       "\n",
       "   mad_Degree of voice breaks  status  \n",
       "0                    7.958672       1  \n",
       "1                    6.815399       1  \n",
       "2                   13.228728       1  \n",
       "3                   11.676148       1  \n",
       "4                   12.495805       1  \n",
       "\n",
       "[5 rows x 184 columns]"
      ]
     },
     "execution_count": 183,
     "metadata": {},
     "output_type": "execute_result"
    }
   ],
   "source": [
    "X_train1.head()\n"
   ]
  },
  {
   "cell_type": "code",
   "execution_count": 195,
   "metadata": {},
   "outputs": [],
   "source": [
    "glob_feats = ['Subject ID', \n",
    "              'Jitter(local)', 'Jitter(local, absolute)', 'Jitter (rap)', 'Jitter (ppq5)', 'mu_Jitter (ddp)', \n",
    "              'Shimmer (local)', 'Shimmer (local, db)', 'Shimmer (apq3)', 'Shimmer (apq5)', 'Shimmer (apq11)', \n",
    "              'mu_Shimmer (dda)', 'AC', 'NDH', 'HTM', 'Median Pitch', 'mad_Mean Pitch', 'Standard deviation', \n",
    "              'Minimum pitch', 'Maximum pitch', 'Number of pulses', 'Number of periods', 'mad_Mean period', \n",
    "              'Standard deviation of period', 'mad_Fraction of locally unvoiced frames', 'Number of voice breaks', \n",
    "              'Degree of voice breaks', 'status']"
   ]
  },
  {
   "cell_type": "code",
   "execution_count": 225,
   "metadata": {},
   "outputs": [
    {
     "data": {
      "text/plain": [
       "Index(['Unnamed: 0', 'mu_Jitter(local)', 'mu_Jitter(local, absolute)',\n",
       "       'mu_Jitter (rap)', 'mu_Jitter (ppq5)', 'mu_Jitter (ddp)',\n",
       "       'mu_Shimmer (local)', 'mu_Shimmer (local, db)', 'mu_Shimmer (apq3)',\n",
       "       'mu_Shimmer (apq5)',\n",
       "       ...\n",
       "       'mad_Minimum pitch', 'mad_Maximum pitch', 'mad_Number of pulses',\n",
       "       'mad_Number of periods', 'mad_Mean period',\n",
       "       'mad_Standard deviation of period',\n",
       "       'mad_Fraction of locally unvoiced frames', 'mad_Number of voice breaks',\n",
       "       'mad_Degree of voice breaks', 'status'],\n",
       "      dtype='object', length=184)"
      ]
     },
     "execution_count": 225,
     "metadata": {},
     "output_type": "execute_result"
    }
   ],
   "source": [
    "f = X_train2.columns\n",
    "f"
   ]
  },
  {
   "cell_type": "code",
   "execution_count": 227,
   "metadata": {},
   "outputs": [
    {
     "data": {
      "text/plain": [
       "<AxesSubplot:>"
      ]
     },
     "execution_count": 227,
     "metadata": {},
     "output_type": "execute_result"
    },
    {
     "data": {
      "text/plain": [
       "<Figure size 720x360 with 0 Axes>"
      ]
     },
     "metadata": {},
     "output_type": "display_data"
    },
    {
     "data": {
      "image/png": "[encoded data removed]",
      "text/plain": [
       "<Figure size 504x288 with 1 Axes>"
      ]
     },
     "metadata": {
      "needs_background": "light"
     },
     "output_type": "display_data"
    }
   ],
   "source": [
    "features = ['mu_Shimmer (apq3)', 'mu_Jitter (rap)', 'mu_Shimmer (apq5)', 'mu_Jitter (ddp)']\n",
    "\n",
    "fig = plt.figure(figsize = (10,5))\n",
    "# X_train1[features].plot(kind= \"box\",figsize = [7,4])\n",
    "X_train2[features].plot(kind= \"box\",figsize = [7,4])"
   ]
  },
  {
   "cell_type": "code",
   "execution_count": 204,
   "metadata": {},
   "outputs": [
    {
     "name": "stderr",
     "output_type": "stream",
     "text": [
      "/home/lenovo/snap/jupyter/common/lib/python3.7/site-packages/seaborn/_decorators.py:43: FutureWarning: Pass the following variables as keyword args: x, y. From version 0.12, the only valid positional argument will be `data`, and passing other arguments without an explicit keyword will result in an error or misinterpretation.\n",
      "  FutureWarning\n",
      "/home/lenovo/snap/jupyter/common/lib/python3.7/site-packages/seaborn/_decorators.py:43: FutureWarning: Pass the following variables as keyword args: x, y. From version 0.12, the only valid positional argument will be `data`, and passing other arguments without an explicit keyword will result in an error or misinterpretation.\n",
      "  FutureWarning\n",
      "/home/lenovo/snap/jupyter/common/lib/python3.7/site-packages/seaborn/_decorators.py:43: FutureWarning: Pass the following variables as keyword args: x, y. From version 0.12, the only valid positional argument will be `data`, and passing other arguments without an explicit keyword will result in an error or misinterpretation.\n",
      "  FutureWarning\n"
     ]
    },
    {
     "data": {
      "text/plain": [
       "<AxesSubplot:xlabel='median_Jitter (ddp)', ylabel='status'>"
      ]
     },
     "execution_count": 204,
     "metadata": {},
     "output_type": "execute_result"
    },
    {
     "data": {
      "image/png": "[encoded data removed]",
      "text/plain": [
       "<Figure size 1080x288 with 3 Axes>"
      ]
     },
     "metadata": {
      "needs_background": "light"
     },
     "output_type": "display_data"
    }
   ],
   "source": [
    "fig = plt.figure(figsize = (15,4))\n",
    "ax = plt.subplot(1,3,1)\n",
    "sns.scatterplot(X_train1['median_Jitter (ppq5)'], X_train1['trim25mean_Jitter (ppq5)'])\n",
    "ax2 = plt.subplot(1,3,2)\n",
    "sns.scatterplot(X_train1['trim25mean_Jitter (ppq5)'], X_train1['median_Jitter (ddp)'])\n",
    "ax3 = plt.subplot(1,3,3)\n",
    "sns.scatterplot(X_train1['median_Jitter (ddp)'], X_train1['status'])"
   ]
  },
  {
   "cell_type": "code",
   "execution_count": 196,
   "metadata": {},
   "outputs": [
    {
     "data": {
      "text/plain": [
       "<seaborn.axisgrid.PairGrid at 0x7fc14c3e9710>"
      ]
     },
     "execution_count": 196,
     "metadata": {},
     "output_type": "execute_result"
    },
    {
     "data": {
      "image/png": "[encoded data removed]",
      "text/plain": [
       "<Figure size 402.375x540 with 6 Axes>"
      ]
     },
     "metadata": {
      "needs_background": "light"
     },
     "output_type": "display_data"
    }
   ],
   "source": [
    "sns.pairplot(X_train1.drop(glob_feats[0],axis=1),\n",
    "             x_vars=[glob_feats[16],glob_feats[5]],\n",
    "            y_vars=[glob_feats[22],glob_feats[11],glob_feats[24]],hue=\"status\")"
   ]
  },
  {
   "cell_type": "code",
   "execution_count": 230,
   "metadata": {},
   "outputs": [
    {
     "data": {
      "text/plain": [
       "Text(0.5, 1.0, 'MSR+SL')"
      ]
     },
     "execution_count": 230,
     "metadata": {},
     "output_type": "execute_result"
    },
    {
     "data": {
      "image/png": "[encoded data removed]",
      "text/plain": [
       "<Figure size 720x720 with 2 Axes>"
      ]
     },
     "metadata": {
      "needs_background": "light"
     },
     "output_type": "display_data"
    }
   ],
   "source": [
    "fig = plt.figure(figsize = (10,10))\n",
    "# ax1 = plt.subplot(1,1,1)\n",
    "# top_features = X_train1.corr()[['status']].sort_values(by=['status'],ascending=False).head(20)\n",
    "# sns.heatmap(top_features,cmap='rainbow',annot=True ,annot_kws={\"size\": 15},vmin=-1)\n",
    "# plt.title('MSR')\n",
    "\n",
    "ax2 = plt.subplot(1,1,1)\n",
    "top_features = X_train2.corr()[['status']].sort_values(by=['status'],ascending=False).head(20)\n",
    "sns.heatmap(top_features,cmap='rainbow',annot=True,annot_kws={\"size\": 15},vmin=-1)\n",
    "plt.title('MSR+SL')"
   ]
  },
  {
   "cell_type": "code",
   "execution_count": 140,
   "metadata": {},
   "outputs": [],
   "source": [
    "y_train = X_train['182']\n",
    "y_test = X_test['182']"
   ]
  },
  {
   "cell_type": "code",
   "execution_count": 141,
   "metadata": {},
   "outputs": [],
   "source": [
    "X_train = X_train.drop(columns=['182'])\n",
    "X_test = X_test.drop(columns=['182'])"
   ]
  },
  {
   "cell_type": "code",
   "execution_count": 142,
   "metadata": {},
   "outputs": [
    {
     "data": {
      "text/plain": [
       "(115,)"
      ]
     },
     "execution_count": 142,
     "metadata": {},
     "output_type": "execute_result"
    }
   ],
   "source": [
    "y_test.shape"
   ]
  },
  {
   "cell_type": "code",
   "execution_count": 37,
   "metadata": {},
   "outputs": [],
   "source": [
    "null_data = X_train[X_train.isnull().any(axis=1)]"
   ]
  },
  {
   "cell_type": "code",
   "execution_count": 11,
   "metadata": {},
   "outputs": [
    {
     "name": "stderr",
     "output_type": "stream",
     "text": [
      "/home/lenovo/snap/jupyter/common/lib/python3.7/site-packages/joblib/_multiprocessing_helpers.py:45: UserWarning: [Errno 13] Permission denied.  joblib will operate in serial mode\n",
      "  warnings.warn('%s.  joblib will operate in serial mode' % (e,))\n"
     ]
    }
   ],
   "source": [
    "from sklearn import svm"
   ]
  },
  {
   "cell_type": "code",
   "execution_count": 38,
   "metadata": {},
   "outputs": [],
   "source": [
    "clf = svm.SVC(kernel='rbf', C=1).fit(X_train, y_train)"
   ]
  },
  {
   "cell_type": "code",
   "execution_count": 39,
   "metadata": {},
   "outputs": [
    {
     "data": {
      "text/plain": [
       "0.5238095238095238"
      ]
     },
     "execution_count": 39,
     "metadata": {},
     "output_type": "execute_result"
    }
   ],
   "source": [
    "clf.score(X_test, y_test)"
   ]
  },
  {
   "cell_type": "code",
   "execution_count": 40,
   "metadata": {},
   "outputs": [],
   "source": [
    "from sklearn.model_selection import cross_val_score"
   ]
  },
  {
   "cell_type": "code",
   "execution_count": 46,
   "metadata": {},
   "outputs": [
    {
     "data": {
      "text/plain": [
       "0.8017543859649121"
      ]
     },
     "execution_count": 46,
     "metadata": {},
     "output_type": "execute_result"
    }
   ],
   "source": [
    "clf = svm.SVC(kernel='rbf', C=1, random_state=42)\n",
    "scores = cross_val_score(clf, X_train, y_train, cv=10)\n",
    "np.mean(scores)"
   ]
  },
  {
   "cell_type": "code",
   "execution_count": 47,
   "metadata": {},
   "outputs": [
    {
     "data": {
      "text/plain": [
       "0.9154970760233917"
      ]
     },
     "execution_count": 47,
     "metadata": {},
     "output_type": "execute_result"
    }
   ],
   "source": [
    "clf = svm.SVC(kernel='linear', C=1, random_state=42)\n",
    "scores = cross_val_score(clf, X_train, y_train, cv=10)\n",
    "np.mean(scores)"
   ]
  },
  {
   "cell_type": "code",
   "execution_count": 48,
   "metadata": {},
   "outputs": [],
   "source": [
    "from sklearn.linear_model import LinearRegression"
   ]
  },
  {
   "cell_type": "code",
   "execution_count": 49,
   "metadata": {},
   "outputs": [],
   "source": [
    "reg = LinearRegression().fit(X_train, y_train)"
   ]
  },
  {
   "cell_type": "code",
   "execution_count": 50,
   "metadata": {},
   "outputs": [
    {
     "data": {
      "text/plain": [
       "-107.03327904729024"
      ]
     },
     "execution_count": 50,
     "metadata": {},
     "output_type": "execute_result"
    }
   ],
   "source": [
    "reg.score(X_test, y_test)"
   ]
  },
  {
   "cell_type": "code",
   "execution_count": 143,
   "metadata": {},
   "outputs": [
    {
     "data": {
      "text/plain": [
       "(199, 364)"
      ]
     },
     "execution_count": 143,
     "metadata": {},
     "output_type": "execute_result"
    }
   ],
   "source": [
    "X_train.shape"
   ]
  },
  {
   "cell_type": "code",
   "execution_count": 144,
   "metadata": {},
   "outputs": [
    {
     "data": {
      "text/plain": [
       "(199,)"
      ]
     },
     "execution_count": 144,
     "metadata": {},
     "output_type": "execute_result"
    }
   ],
   "source": [
    "y_train.shape"
   ]
  },
  {
   "cell_type": "code",
   "execution_count": 145,
   "metadata": {},
   "outputs": [
    {
     "data": {
      "text/plain": [
       "(115, 364)"
      ]
     },
     "execution_count": 145,
     "metadata": {},
     "output_type": "execute_result"
    }
   ],
   "source": [
    "X_test.shape"
   ]
  },
  {
   "cell_type": "code",
   "execution_count": 146,
   "metadata": {},
   "outputs": [],
   "source": [
    "l = [str(i) for i in range(0,182,1)]\n",
    "l1 = [str(i) for i in range(183,365,1)]\n",
    "speech_train = X_train[l]\n",
    "speech_test = X_test[l]\n",
    "img_train = X_train[l1]\n",
    "img_test = X_test[l1]"
   ]
  },
  {
   "cell_type": "code",
   "execution_count": 147,
   "metadata": {},
   "outputs": [
    {
     "data": {
      "text/html": [
       "<div>\n",
       "<style scoped>\n",
       "    .dataframe tbody tr th:only-of-type {\n",
       "        vertical-align: middle;\n",
       "    }\n",
       "\n",
       "    .dataframe tbody tr th {\n",
       "        vertical-align: top;\n",
       "    }\n",
       "\n",
       "    .dataframe thead th {\n",
       "        text-align: right;\n",
       "    }\n",
       "</style>\n",
       "<table border=\"1\" class=\"dataframe\">\n",
       "  <thead>\n",
       "    <tr style=\"text-align: right;\">\n",
       "      <th></th>\n",
       "      <th>0</th>\n",
       "      <th>1</th>\n",
       "      <th>2</th>\n",
       "      <th>3</th>\n",
       "      <th>4</th>\n",
       "      <th>5</th>\n",
       "      <th>6</th>\n",
       "      <th>7</th>\n",
       "      <th>8</th>\n",
       "      <th>9</th>\n",
       "      <th>...</th>\n",
       "      <th>172</th>\n",
       "      <th>173</th>\n",
       "      <th>174</th>\n",
       "      <th>175</th>\n",
       "      <th>176</th>\n",
       "      <th>177</th>\n",
       "      <th>178</th>\n",
       "      <th>179</th>\n",
       "      <th>180</th>\n",
       "      <th>181</th>\n",
       "    </tr>\n",
       "  </thead>\n",
       "  <tbody>\n",
       "    <tr>\n",
       "      <th>0</th>\n",
       "      <td>0.003547</td>\n",
       "      <td>0.000018</td>\n",
       "      <td>0.001717</td>\n",
       "      <td>0.001857</td>\n",
       "      <td>0.005150</td>\n",
       "      <td>0.030043</td>\n",
       "      <td>0.306333</td>\n",
       "      <td>0.012145</td>\n",
       "      <td>0.016363</td>\n",
       "      <td>0.028380</td>\n",
       "      <td>...</td>\n",
       "      <td>12.386222</td>\n",
       "      <td>28.230722</td>\n",
       "      <td>71.217889</td>\n",
       "      <td>227.166667</td>\n",
       "      <td>228.666667</td>\n",
       "      <td>0.000417</td>\n",
       "      <td>0.000501</td>\n",
       "      <td>0.020986</td>\n",
       "      <td>1.166667</td>\n",
       "      <td>0.012258</td>\n",
       "    </tr>\n",
       "    <tr>\n",
       "      <th>1</th>\n",
       "      <td>0.004045</td>\n",
       "      <td>0.000028</td>\n",
       "      <td>0.002020</td>\n",
       "      <td>0.002135</td>\n",
       "      <td>0.006063</td>\n",
       "      <td>0.037187</td>\n",
       "      <td>0.337000</td>\n",
       "      <td>0.017292</td>\n",
       "      <td>0.024240</td>\n",
       "      <td>0.034805</td>\n",
       "      <td>...</td>\n",
       "      <td>17.209889</td>\n",
       "      <td>23.450556</td>\n",
       "      <td>62.052111</td>\n",
       "      <td>151.000000</td>\n",
       "      <td>151.333333</td>\n",
       "      <td>0.000792</td>\n",
       "      <td>0.001008</td>\n",
       "      <td>0.100668</td>\n",
       "      <td>0.444444</td>\n",
       "      <td>0.036655</td>\n",
       "    </tr>\n",
       "    <tr>\n",
       "      <th>2</th>\n",
       "      <td>0.010367</td>\n",
       "      <td>0.000072</td>\n",
       "      <td>0.005132</td>\n",
       "      <td>0.005715</td>\n",
       "      <td>0.015395</td>\n",
       "      <td>0.044917</td>\n",
       "      <td>0.498000</td>\n",
       "      <td>0.021292</td>\n",
       "      <td>0.026830</td>\n",
       "      <td>0.042540</td>\n",
       "      <td>...</td>\n",
       "      <td>5.622167</td>\n",
       "      <td>36.385667</td>\n",
       "      <td>13.962444</td>\n",
       "      <td>49.444444</td>\n",
       "      <td>48.777778</td>\n",
       "      <td>0.000249</td>\n",
       "      <td>0.001672</td>\n",
       "      <td>0.043083</td>\n",
       "      <td>0.666667</td>\n",
       "      <td>0.002989</td>\n",
       "    </tr>\n",
       "    <tr>\n",
       "      <th>3</th>\n",
       "      <td>0.006670</td>\n",
       "      <td>0.000048</td>\n",
       "      <td>0.002815</td>\n",
       "      <td>0.003470</td>\n",
       "      <td>0.008445</td>\n",
       "      <td>0.066050</td>\n",
       "      <td>0.645667</td>\n",
       "      <td>0.030512</td>\n",
       "      <td>0.040083</td>\n",
       "      <td>0.064232</td>\n",
       "      <td>...</td>\n",
       "      <td>8.499667</td>\n",
       "      <td>13.080167</td>\n",
       "      <td>102.229000</td>\n",
       "      <td>128.500000</td>\n",
       "      <td>128.666667</td>\n",
       "      <td>0.000208</td>\n",
       "      <td>0.000229</td>\n",
       "      <td>0.102178</td>\n",
       "      <td>0.277778</td>\n",
       "      <td>0.003203</td>\n",
       "    </tr>\n",
       "    <tr>\n",
       "      <th>4</th>\n",
       "      <td>0.004187</td>\n",
       "      <td>0.000020</td>\n",
       "      <td>0.001755</td>\n",
       "      <td>0.002035</td>\n",
       "      <td>0.005267</td>\n",
       "      <td>0.033150</td>\n",
       "      <td>0.392333</td>\n",
       "      <td>0.013088</td>\n",
       "      <td>0.019008</td>\n",
       "      <td>0.033233</td>\n",
       "      <td>...</td>\n",
       "      <td>6.120000</td>\n",
       "      <td>45.914833</td>\n",
       "      <td>17.870167</td>\n",
       "      <td>35.000000</td>\n",
       "      <td>35.000000</td>\n",
       "      <td>0.000227</td>\n",
       "      <td>0.000197</td>\n",
       "      <td>0.128573</td>\n",
       "      <td>0.444444</td>\n",
       "      <td>0.003007</td>\n",
       "    </tr>\n",
       "  </tbody>\n",
       "</table>\n",
       "<p>5 rows × 182 columns</p>\n",
       "</div>"
      ],
      "text/plain": [
       "          0         1         2         3         4         5         6  \\\n",
       "0  0.003547  0.000018  0.001717  0.001857  0.005150  0.030043  0.306333   \n",
       "1  0.004045  0.000028  0.002020  0.002135  0.006063  0.037187  0.337000   \n",
       "2  0.010367  0.000072  0.005132  0.005715  0.015395  0.044917  0.498000   \n",
       "3  0.006670  0.000048  0.002815  0.003470  0.008445  0.066050  0.645667   \n",
       "4  0.004187  0.000020  0.001755  0.002035  0.005267  0.033150  0.392333   \n",
       "\n",
       "          7         8         9  ...        172        173         174  \\\n",
       "0  0.012145  0.016363  0.028380  ...  12.386222  28.230722   71.217889   \n",
       "1  0.017292  0.024240  0.034805  ...  17.209889  23.450556   62.052111   \n",
       "2  0.021292  0.026830  0.042540  ...   5.622167  36.385667   13.962444   \n",
       "3  0.030512  0.040083  0.064232  ...   8.499667  13.080167  102.229000   \n",
       "4  0.013088  0.019008  0.033233  ...   6.120000  45.914833   17.870167   \n",
       "\n",
       "          175         176       177       178       179       180       181  \n",
       "0  227.166667  228.666667  0.000417  0.000501  0.020986  1.166667  0.012258  \n",
       "1  151.000000  151.333333  0.000792  0.001008  0.100668  0.444444  0.036655  \n",
       "2   49.444444   48.777778  0.000249  0.001672  0.043083  0.666667  0.002989  \n",
       "3  128.500000  128.666667  0.000208  0.000229  0.102178  0.277778  0.003203  \n",
       "4   35.000000   35.000000  0.000227  0.000197  0.128573  0.444444  0.003007  \n",
       "\n",
       "[5 rows x 182 columns]"
      ]
     },
     "execution_count": 147,
     "metadata": {},
     "output_type": "execute_result"
    }
   ],
   "source": [
    "speech_train.head()"
   ]
  },
  {
   "cell_type": "code",
   "execution_count": 148,
   "metadata": {},
   "outputs": [],
   "source": [
    "from sklearn.neural_network import MLPClassifier"
   ]
  },
  {
   "cell_type": "code",
   "execution_count": null,
   "metadata": {},
   "outputs": [],
   "source": [
    "acc = []\n",
    "mlp_cl = MLPClassifier()\n",
    "for i in range(80):\n",
    "    mlp_cl = MLPClassifier(random_state=1, max_iter=1,hidden_layer_sizes=(100,50,25),solver='adam').fit(speech_train, y_train)\n",
    "    acc_mlp = mlp_cl.score(speech_test,y_test)\n",
    "    acc.append(acc_mlp)\n",
    "    # mlp_cl.loss_curve_\n",
    "    # y_speech = mlp_cl.predict_proba(speech_test)\n",
    "    # y_speech\n",
    "    \n",
    "#     # plt.ylabel('Accuracy', fontsize=16)\n",
    "#     plt.plot(mlp_cl.loss_curve_, label='Training Accuracy', color = 'green')\n",
    "#     # plt.legend(loc='lower right')\n",
    "#     plt.title('Training loss with iterations (MSR+HD+SL)')"
   ]
  },
  {
   "cell_type": "code",
   "execution_count": 150,
   "metadata": {},
   "outputs": [
    {
     "name": "stdout",
     "output_type": "stream",
     "text": [
      "0.7304347826086957\n"
     ]
    },
    {
     "name": "stderr",
     "output_type": "stream",
     "text": [
      "/home/lenovo/snap/jupyter/common/lib/python3.7/site-packages/sklearn/neural_network/_multilayer_perceptron.py:617: ConvergenceWarning: Stochastic Optimizer: Maximum iterations (80) reached and the optimization hasn't converged yet.\n",
      "  % self.max_iter, ConvergenceWarning)\n"
     ]
    },
    {
     "data": {
      "text/plain": [
       "Text(0.5, 1.0, 'Training loss with iterations (MSR+HD+SL)')"
      ]
     },
     "execution_count": 150,
     "metadata": {},
     "output_type": "execute_result"
    },
    {
     "data": {
      "image/png": "[encoded data removed]",
      "text/plain": [
       "<Figure size 288x288 with 1 Axes>"
      ]
     },
     "metadata": {
      "needs_background": "light"
     },
     "output_type": "display_data"
    }
   ],
   "source": [
    "\n",
    "mlp_cl = MLPClassifier(random_state=1, max_iter=80,hidden_layer_sizes=(100,50,25),solver='adam').fit(speech_train, y_train)\n",
    "acc_mlp = mlp_cl.score(speech_test,y_test)\n",
    "print(acc_mlp)\n",
    "# mlp_cl.loss_curve_\n",
    "# y_speech = mlp_cl.predict_proba(speech_test)\n",
    "# y_speech\n",
    "fig = plt.figure(figsize = (4,4))\n",
    "# plt.ylabel('Accuracy', fontsize=16)\n",
    "plt.plot(mlp_cl.loss_curve_, label='Training Accuracy', color = 'green')\n",
    "# plt.legend(loc='lower right')\n",
    "plt.title('Training loss with iterations (MSR+HD+SL)')"
   ]
  },
  {
   "cell_type": "code",
   "execution_count": 151,
   "metadata": {},
   "outputs": [
    {
     "data": {
      "text/plain": [
       "(115, 182)"
      ]
     },
     "execution_count": 151,
     "metadata": {},
     "output_type": "execute_result"
    }
   ],
   "source": [
    "img_test.shape"
   ]
  },
  {
   "cell_type": "code",
   "execution_count": 152,
   "metadata": {},
   "outputs": [],
   "source": [
    "arr = np.array(img_train)\n",
    "l = []\n",
    "for i in range(199):\n",
    "    l.append(arr[i].reshape((13,14)))"
   ]
  },
  {
   "cell_type": "code",
   "execution_count": 154,
   "metadata": {},
   "outputs": [],
   "source": [
    "arr = np.array(img_test)\n",
    "l = []\n",
    "for i in range(115):\n",
    "    l.append(arr[i].reshape((13,14)))"
   ]
  },
  {
   "cell_type": "code",
   "execution_count": 155,
   "metadata": {},
   "outputs": [
    {
     "data": {
      "text/plain": [
       "(115, 13, 14, 1)"
      ]
     },
     "execution_count": 155,
     "metadata": {},
     "output_type": "execute_result"
    }
   ],
   "source": [
    "arr = np.array(l)\n",
    "arr_test = arr.reshape(115,13,14,1)\n",
    "arr_test.shape"
   ]
  },
  {
   "cell_type": "code",
   "execution_count": 153,
   "metadata": {},
   "outputs": [
    {
     "data": {
      "text/plain": [
       "(199, 13, 14, 1)"
      ]
     },
     "execution_count": 153,
     "metadata": {},
     "output_type": "execute_result"
    }
   ],
   "source": [
    "arr = np.array(l)\n",
    "arr_train = arr.reshape(199,13,14,1)\n",
    "arr_train.shape"
   ]
  },
  {
   "cell_type": "code",
   "execution_count": 156,
   "metadata": {},
   "outputs": [
    {
     "data": {
      "text/plain": [
       "array([1., 1., 1., 1., 1., 1., 1., 1., 1., 1., 1., 1., 1., 1., 1., 1., 1.,\n",
       "       1., 1., 1., 1., 1., 1., 1., 1., 1., 1., 1., 1., 1., 1., 1., 1., 1.,\n",
       "       1., 0., 0., 0., 0., 0., 0., 0., 0., 0., 0., 0., 0., 0., 0., 0., 0.,\n",
       "       0., 0., 0., 0., 0., 0., 0., 0., 0., 0., 0., 0., 0., 0., 0., 0., 0.,\n",
       "       0., 0., 0., 0., 0., 0., 0., 0., 0., 0., 0., 0., 0., 0., 0., 0., 0.,\n",
       "       0., 0., 0., 0., 0., 0., 0., 0., 0., 0., 0., 0., 0., 0., 0., 0., 0.,\n",
       "       0., 0., 0., 0., 0., 0., 0., 0., 0., 0., 0., 0., 0., 0., 0., 0., 0.,\n",
       "       0., 0., 0., 0., 0., 0., 0., 0., 1., 1., 1., 1., 1., 1., 1., 1., 1.,\n",
       "       1., 1., 1., 1., 1., 1., 1., 1., 1., 1., 1., 1., 1., 1., 1., 1., 1.,\n",
       "       1., 1., 1., 1., 1., 1., 1., 1., 1., 1., 1., 1., 1., 1., 1., 1., 1.,\n",
       "       1., 1., 1., 1., 1., 1., 1., 1., 1., 1., 1., 1., 1., 1., 1., 1., 1.,\n",
       "       1., 1., 1., 1., 1., 1., 1., 1., 1., 1., 1., 1.])"
      ]
     },
     "execution_count": 156,
     "metadata": {},
     "output_type": "execute_result"
    }
   ],
   "source": [
    "y_train = np.array(y_train)\n",
    "y_train"
   ]
  },
  {
   "cell_type": "code",
   "execution_count": 157,
   "metadata": {},
   "outputs": [],
   "source": [
    "from keras.utils import to_categorical#one-hot encode target column\n",
    "y_train1 = to_categorical(y_train)\n",
    "y_test1 = to_categorical(y_test)"
   ]
  },
  {
   "cell_type": "code",
   "execution_count": 158,
   "metadata": {},
   "outputs": [
    {
     "data": {
      "text/plain": [
       "(199, 13, 14, 1)"
      ]
     },
     "execution_count": 158,
     "metadata": {},
     "output_type": "execute_result"
    }
   ],
   "source": [
    "arr_train.shape"
   ]
  },
  {
   "cell_type": "code",
   "execution_count": 159,
   "metadata": {},
   "outputs": [
    {
     "data": {
      "text/plain": [
       "(115, 13, 14, 1)"
      ]
     },
     "execution_count": 159,
     "metadata": {},
     "output_type": "execute_result"
    }
   ],
   "source": [
    "arr_test.shape"
   ]
  },
  {
   "cell_type": "code",
   "execution_count": 160,
   "metadata": {},
   "outputs": [],
   "source": [
    "from keras.models import Sequential\n",
    "from keras.layers import Conv2D, MaxPooling2D, Flatten, Dense\n",
    "\n",
    "classifier=Sequential()\n",
    "classifier.add(Conv2D(64,(3,3),input_shape=(13, 14, 1),activation='relu'))\n",
    "classifier.add(MaxPooling2D(pool_size=(2,2)))\n",
    "classifier.add(Conv2D(32,(3,3),activation='relu'))\n",
    "classifier.add(MaxPooling2D(pool_size=(2,2)))\n",
    "classifier.add(Flatten())\n",
    "classifier.add(Dense(activation='relu',units=182))\n",
    "classifier.add(Dense(activation='softmax',units=2))"
   ]
  },
  {
   "cell_type": "code",
   "execution_count": 161,
   "metadata": {},
   "outputs": [],
   "source": [
    "classifier.compile(optimizer='adam', loss='MSE', metrics=['accuracy'])"
   ]
  },
  {
   "cell_type": "code",
   "execution_count": 162,
   "metadata": {},
   "outputs": [
    {
     "name": "stdout",
     "output_type": "stream",
     "text": [
      "Epoch 1/30\n",
      "7/7 [==============================] - 0s 60ms/step - loss: 0.2534 - accuracy: 0.5126 - val_loss: 0.2492 - val_accuracy: 0.5652\n",
      "Epoch 2/30\n",
      "7/7 [==============================] - 0s 12ms/step - loss: 0.2503 - accuracy: 0.5276 - val_loss: 0.2483 - val_accuracy: 0.5652\n",
      "Epoch 3/30\n",
      "7/7 [==============================] - 0s 11ms/step - loss: 0.2458 - accuracy: 0.6231 - val_loss: 0.2457 - val_accuracy: 0.5652\n",
      "Epoch 4/30\n",
      "7/7 [==============================] - 0s 14ms/step - loss: 0.2418 - accuracy: 0.5578 - val_loss: 0.2423 - val_accuracy: 0.5652\n",
      "Epoch 5/30\n",
      "7/7 [==============================] - 0s 22ms/step - loss: 0.2365 - accuracy: 0.6181 - val_loss: 0.2370 - val_accuracy: 0.5826\n",
      "Epoch 6/30\n",
      "7/7 [==============================] - 0s 12ms/step - loss: 0.2285 - accuracy: 0.7286 - val_loss: 0.2331 - val_accuracy: 0.5826\n",
      "Epoch 7/30\n",
      "7/7 [==============================] - 0s 21ms/step - loss: 0.2327 - accuracy: 0.5628 - val_loss: 0.2260 - val_accuracy: 0.6087\n",
      "Epoch 8/30\n",
      "7/7 [==============================] - 0s 15ms/step - loss: 0.2212 - accuracy: 0.5980 - val_loss: 0.2244 - val_accuracy: 0.5739\n",
      "Epoch 9/30\n",
      "7/7 [==============================] - 0s 25ms/step - loss: 0.2091 - accuracy: 0.7085 - val_loss: 0.2264 - val_accuracy: 0.5913\n",
      "Epoch 10/30\n",
      "7/7 [==============================] - 0s 22ms/step - loss: 0.2079 - accuracy: 0.6734 - val_loss: 0.2161 - val_accuracy: 0.6087\n",
      "Epoch 11/30\n",
      "7/7 [==============================] - 0s 19ms/step - loss: 0.1959 - accuracy: 0.6784 - val_loss: 0.2167 - val_accuracy: 0.5913\n",
      "Epoch 12/30\n",
      "7/7 [==============================] - 0s 13ms/step - loss: 0.1877 - accuracy: 0.7236 - val_loss: 0.2254 - val_accuracy: 0.6087\n",
      "Epoch 13/30\n",
      "7/7 [==============================] - 0s 15ms/step - loss: 0.1729 - accuracy: 0.7688 - val_loss: 0.2146 - val_accuracy: 0.6348\n",
      "Epoch 14/30\n",
      "7/7 [==============================] - 0s 20ms/step - loss: 0.1737 - accuracy: 0.7538 - val_loss: 0.2243 - val_accuracy: 0.6087\n",
      "Epoch 15/30\n",
      "7/7 [==============================] - 0s 14ms/step - loss: 0.1604 - accuracy: 0.7839 - val_loss: 0.2125 - val_accuracy: 0.6522\n",
      "Epoch 16/30\n",
      "7/7 [==============================] - 0s 22ms/step - loss: 0.1519 - accuracy: 0.8392 - val_loss: 0.2234 - val_accuracy: 0.6261\n",
      "Epoch 17/30\n",
      "7/7 [==============================] - 0s 17ms/step - loss: 0.1512 - accuracy: 0.7638 - val_loss: 0.2172 - val_accuracy: 0.6348\n",
      "Epoch 18/30\n",
      "7/7 [==============================] - 0s 20ms/step - loss: 0.1307 - accuracy: 0.8191 - val_loss: 0.2201 - val_accuracy: 0.6435\n",
      "Epoch 19/30\n",
      "7/7 [==============================] - 0s 14ms/step - loss: 0.1203 - accuracy: 0.8543 - val_loss: 0.2300 - val_accuracy: 0.6087\n",
      "Epoch 20/30\n",
      "7/7 [==============================] - 0s 17ms/step - loss: 0.1178 - accuracy: 0.8543 - val_loss: 0.2150 - val_accuracy: 0.6261\n",
      "Epoch 21/30\n",
      "7/7 [==============================] - 0s 20ms/step - loss: 0.1061 - accuracy: 0.8794 - val_loss: 0.2290 - val_accuracy: 0.6522\n",
      "Epoch 22/30\n",
      "7/7 [==============================] - 0s 19ms/step - loss: 0.1084 - accuracy: 0.8593 - val_loss: 0.2130 - val_accuracy: 0.6522\n",
      "Epoch 23/30\n",
      "7/7 [==============================] - 0s 13ms/step - loss: 0.1201 - accuracy: 0.8543 - val_loss: 0.2513 - val_accuracy: 0.5826\n",
      "Epoch 24/30\n",
      "7/7 [==============================] - 0s 21ms/step - loss: 0.0985 - accuracy: 0.8794 - val_loss: 0.2170 - val_accuracy: 0.6522\n",
      "Epoch 25/30\n",
      "7/7 [==============================] - 0s 15ms/step - loss: 0.0923 - accuracy: 0.8844 - val_loss: 0.2428 - val_accuracy: 0.5913\n",
      "Epoch 26/30\n",
      "7/7 [==============================] - 0s 21ms/step - loss: 0.0882 - accuracy: 0.8995 - val_loss: 0.2139 - val_accuracy: 0.6435\n",
      "Epoch 27/30\n",
      "7/7 [==============================] - 0s 32ms/step - loss: 0.0800 - accuracy: 0.8894 - val_loss: 0.2301 - val_accuracy: 0.6174\n",
      "Epoch 28/30\n",
      "7/7 [==============================] - 0s 15ms/step - loss: 0.0826 - accuracy: 0.8794 - val_loss: 0.2130 - val_accuracy: 0.6522\n",
      "Epoch 29/30\n",
      "7/7 [==============================] - 0s 14ms/step - loss: 0.0734 - accuracy: 0.9095 - val_loss: 0.2211 - val_accuracy: 0.6435\n",
      "Epoch 30/30\n",
      "7/7 [==============================] - 0s 18ms/step - loss: 0.0735 - accuracy: 0.8995 - val_loss: 0.2430 - val_accuracy: 0.6000\n"
     ]
    }
   ],
   "source": [
    "history = classifier.fit(arr_train, y_train1, validation_data=(arr_test, y_test1), epochs=30)"
   ]
  },
  {
   "cell_type": "code",
   "execution_count": 163,
   "metadata": {},
   "outputs": [
    {
     "data": {
      "image/png": "[encoded data removed]",
      "text/plain": [
       "<Figure size 864x288 with 2 Axes>"
      ]
     },
     "metadata": {
      "needs_background": "light"
     },
     "output_type": "display_data"
    }
   ],
   "source": [
    "plt.figure(figsize=(12,4))\n",
    "plt.subplot(1,2,1)\n",
    "plt.ylabel('Accuracy', fontsize=16)\n",
    "plt.plot(history.history['accuracy'], label='Training Accuracy', color = 'green')\n",
    "# plt.legend(loc='lower right')\n",
    "plt.title('Cross validation accuracy (MSR+SL+HD)')\n",
    "\n",
    "\n",
    "\n",
    "plt.subplot(1,2,2)\n",
    "plt.ylabel('Loss', fontsize=16)\n",
    "plt.plot(history.history['loss'], label='Training Loss', color = 'red')\n",
    "# plt.legend(loc='lower right')\n",
    "plt.title('Training loss with number of epochs (MSR+SL+HD)')\n",
    "plt.show()"
   ]
  },
  {
   "cell_type": "code",
   "execution_count": 125,
   "metadata": {},
   "outputs": [
    {
     "data": {
      "text/plain": [
       "array([[0.80965775, 0.19034225],\n",
       "       [0.8058786 , 0.1941214 ],\n",
       "       [0.7986641 , 0.2013359 ],\n",
       "       [0.86017233, 0.13982768],\n",
       "       [0.26969254, 0.73030746],\n",
       "       [0.96393436, 0.03606569],\n",
       "       [0.8030214 , 0.19697858],\n",
       "       [0.9173068 , 0.08269326],\n",
       "       [0.8422541 , 0.15774588],\n",
       "       [0.94086146, 0.05913857],\n",
       "       [0.287167  , 0.712833  ],\n",
       "       [0.5498297 , 0.45017028],\n",
       "       [0.74796504, 0.252035  ],\n",
       "       [0.88239163, 0.1176084 ],\n",
       "       [0.94009537, 0.0599046 ],\n",
       "       [0.8268893 , 0.17311078],\n",
       "       [0.9603163 , 0.03968362],\n",
       "       [0.38512662, 0.61487335],\n",
       "       [0.9464052 , 0.05359478],\n",
       "       [0.80211425, 0.1978857 ],\n",
       "       [0.9208984 , 0.07910157],\n",
       "       [0.7578555 , 0.24214451],\n",
       "       [0.8299896 , 0.17001039],\n",
       "       [0.64813364, 0.35186636],\n",
       "       [0.82688373, 0.17311631],\n",
       "       [0.40056732, 0.59943265],\n",
       "       [0.9488567 , 0.0511433 ],\n",
       "       [0.71200556, 0.28799444],\n",
       "       [0.8791226 , 0.12087737],\n",
       "       [0.91657096, 0.08342899],\n",
       "       [0.88250583, 0.11749417],\n",
       "       [0.97866505, 0.02133488],\n",
       "       [0.91118264, 0.08881732],\n",
       "       [0.1630289 , 0.8369711 ],\n",
       "       [0.7651063 , 0.23489366],\n",
       "       [0.7509739 , 0.24902616],\n",
       "       [0.51624495, 0.48375505],\n",
       "       [0.76653916, 0.23346084],\n",
       "       [0.5415766 , 0.4584234 ],\n",
       "       [0.976174  , 0.02382592],\n",
       "       [0.88996726, 0.11003274],\n",
       "       [0.5444913 , 0.45550865],\n",
       "       [0.67236686, 0.32763317],\n",
       "       [0.17115276, 0.8288472 ],\n",
       "       [0.98968554, 0.01031445],\n",
       "       [0.7320883 , 0.26791167],\n",
       "       [0.71563333, 0.2843667 ],\n",
       "       [0.46980816, 0.53019184],\n",
       "       [0.73009807, 0.26990187],\n",
       "       [0.72029704, 0.27970296],\n",
       "       [0.62575924, 0.37424073],\n",
       "       [0.8894336 , 0.1105663 ],\n",
       "       [0.8459373 , 0.15406266],\n",
       "       [0.85658735, 0.14341262],\n",
       "       [0.52348393, 0.4765161 ],\n",
       "       [0.19401766, 0.80598235],\n",
       "       [0.56433845, 0.43566152],\n",
       "       [0.25511128, 0.7448888 ],\n",
       "       [0.4260187 , 0.57398134],\n",
       "       [0.79412276, 0.20587726],\n",
       "       [0.477444  , 0.522556  ],\n",
       "       [0.8860014 , 0.11399857],\n",
       "       [0.4559392 , 0.5440607 ]], dtype=float32)"
      ]
     },
     "execution_count": 125,
     "metadata": {},
     "output_type": "execute_result"
    }
   ],
   "source": [
    "y_img = classifier.predict_proba(arr_test)\n",
    "y_img"
   ]
  },
  {
   "cell_type": "code",
   "execution_count": 126,
   "metadata": {},
   "outputs": [],
   "source": [
    "def final(a,b, y_img, y_speech):\n",
    "    l = []\n",
    "    for i in range(63):\n",
    "        l.append(a*y_img[i] +b*y_speech[i])\n",
    "    return np.array(l)"
   ]
  },
  {
   "cell_type": "code",
   "execution_count": 143,
   "metadata": {},
   "outputs": [],
   "source": [
    "y = final(0.5,0.5, y_img, y_speech)"
   ]
  },
  {
   "cell_type": "code",
   "execution_count": 127,
   "metadata": {},
   "outputs": [],
   "source": [
    "y_test = np.array(y_test)\n",
    "def acc(y):\n",
    "    count = 0\n",
    "    for i in range(y.shape[0]):\n",
    "        if(y[i][1]> y[i][0] and 1 == y_test[i]):\n",
    "            count+=1\n",
    "        if(y[i][1]< y[i][0] and 0 == y_test[i]):\n",
    "            count+=1\n",
    "    return count/y.shape[0]"
   ]
  },
  {
   "cell_type": "code",
   "execution_count": 145,
   "metadata": {},
   "outputs": [
    {
     "data": {
      "text/plain": [
       "0.8095238095238095"
      ]
     },
     "execution_count": 145,
     "metadata": {},
     "output_type": "execute_result"
    }
   ],
   "source": [
    "acc(y)"
   ]
  },
  {
   "cell_type": "code",
   "execution_count": 128,
   "metadata": {},
   "outputs": [
    {
     "name": "stdout",
     "output_type": "stream",
     "text": [
      "a is = 0.9\n",
      "b is = 0.1\n",
      "0.49206349206349204\n",
      "a is = 0.8\n",
      "b is = 0.2\n",
      "0.5079365079365079\n",
      "a is = 0.7\n",
      "b is = 0.3\n",
      "0.5079365079365079\n",
      "a is = 0.6\n",
      "b is = 0.4\n",
      "0.5555555555555556\n",
      "a is = 0.5\n",
      "b is = 0.5\n",
      "0.5238095238095238\n",
      "a is = 0.4\n",
      "b is = 0.6\n",
      "0.5238095238095238\n",
      "a is = 0.3\n",
      "b is = 0.7\n",
      "0.5238095238095238\n",
      "a is = 0.2\n",
      "b is = 0.8\n",
      "0.5238095238095238\n",
      "a is = 0.1\n",
      "b is = 0.9\n",
      "0.5238095238095238\n"
     ]
    }
   ],
   "source": [
    "for b in range(1,10,1):\n",
    "    a = 10-b\n",
    "    print('a is = ' + str(a/10.0))\n",
    "    print('b is = ' + str(b/10.0))\n",
    "    y = final(a/10.0,b/10.0, y_img, y_speech)\n",
    "    print(acc(y))"
   ]
  },
  {
   "cell_type": "code",
   "execution_count": null,
   "metadata": {},
   "outputs": [],
   "source": []
  }
 ],
 "metadata": {
  "kernelspec": {
   "display_name": "Python 3",
   "language": "python",
   "name": "python3"
  },
  "language_info": {
   "codemirror_mode": {
    "name": "ipython",
    "version": 3
   },
   "file_extension": ".py",
   "mimetype": "text/x-python",
   "name": "python",
   "nbconvert_exporter": "python",
   "pygments_lexer": "ipython3",
   "version": "3.7.3"
  }
 },
 "nbformat": 4,
 "nbformat_minor": 2
}
